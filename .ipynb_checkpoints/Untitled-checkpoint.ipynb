{
 "cells": [
  {
   "cell_type": "code",
   "execution_count": 1,
   "metadata": {},
   "outputs": [],
   "source": [
    "import requests"
   ]
  },
  {
   "cell_type": "code",
   "execution_count": 20,
   "metadata": {},
   "outputs": [],
   "source": [
    "#resp = requests.get('http://127.0.0.1:8000/hello')\n",
    "resp = requests.get('https://202006.tditrain.com/user/james.maccarthy@gmail.com/proxy/4000/hello')"
   ]
  },
  {
   "cell_type": "code",
   "execution_count": 21,
   "metadata": {},
   "outputs": [
    {
     "data": {
      "text/plain": [
       "requests.models.Response"
      ]
     },
     "execution_count": 21,
     "metadata": {},
     "output_type": "execute_result"
    }
   ],
   "source": [
    "type(resp)"
   ]
  },
  {
   "cell_type": "code",
   "execution_count": 22,
   "metadata": {},
   "outputs": [
    {
     "data": {
      "text/plain": [
       "200"
      ]
     },
     "execution_count": 22,
     "metadata": {},
     "output_type": "execute_result"
    }
   ],
   "source": [
    "resp.status_code"
   ]
  },
  {
   "cell_type": "code",
   "execution_count": 23,
   "metadata": {},
   "outputs": [
    {
     "data": {
      "text/plain": [
       "'\\n\\n\\n<!DOCTYPE HTML>\\n<html>\\n\\n<head>\\n    <meta charset=\"utf-8\">\\n\\n    <title>JupyterHub</title>\\n    <meta http-equiv=\"X-UA-Compatible\" content=\"chrome=1\">\\n    <meta name=\"viewport\" content=\"width=device-width, initial-scale=1.0\">\\n\\n    \\n    <link rel=\"stylesheet\" href=\"/hub/static/css/style.min.css?v=ab35cbd1a6857ec00620a56c43760477\" type=\"text/css\"/>\\n    \\n    \\n    <script src=\"/hub/static/components/requirejs/require.js?v=f0cc8bbb2fcef87fc194fecbb632fcfa\" type=\"text/javascript\" charset=\"utf-8\"></script>\\n    <script src=\"/hub/static/components/jquery/dist/jquery.min.js?v=220afd743d9e9643852e31a135a9f3ae\" type=\"text/javascript\" charset=\"utf-8\"></script>\\n    <script src=\"/hub/static/components/bootstrap/dist/js/bootstrap.min.js?v=2f34b630ffe30ba2ff2b91e3f3c322a1\" type=\"text/javascript\" charset=\"utf-8\"></script>\\n    \\n    <script>\\n      require.config({\\n          \\n          urlArgs: \"v=20200625041543\",\\n          \\n          baseUrl: \\'/hub/static/js\\',\\n          paths: {\\n            components: \\'../components\\',\\n            jquery: \\'../components/jquery/dist/jquery.min\\',\\n            bootstrap: \\'../components/bootstrap/dist/js/bootstrap.min\\',\\n            moment: \"../components/moment/moment\",\\n          },\\n          shim: {\\n            bootstrap: {\\n              deps: [\"jquery\"],\\n              exports: \"bootstrap\"\\n            },\\n          }\\n      });\\n    </script>\\n\\n    <script type=\"text/javascript\">\\n      window.jhdata = {\\n        base_url: \"/hub/\",\\n        prefix: \"/\",\\n        \\n        \\n        admin_access: false,\\n        \\n        \\n        options_form: false,\\n        \\n      }\\n    </script>\\n\\n    \\n    \\n\\n</head>\\n\\n<body>\\n\\n<noscript>\\n  <div id=\\'noscript\\'>\\n    JupyterHub requires JavaScript.<br>\\n    Please enable it to proceed.\\n  </div>\\n</noscript>\\n\\n\\n  <nav class=\"navbar navbar-default\">\\n    <div class=\"container-fluid\">\\n      <div class=\"navbar-header\">\\n        \\n        <span id=\"jupyterhub-logo\" class=\"pull-left\">\\n            <a href=\"/hub/\"><img src=\\'/hub/logo\\' alt=\\'JupyterHub\\' class=\\'jpy-logo\\' title=\\'Home\\'/></a>\\n        </span>\\n        \\n        <button type=\"button\" class=\"navbar-toggle collapsed\" data-toggle=\"collapse\" data-target=\"#thenavbar\" aria-expanded=\"false\">\\n          <span class=\"sr-only\">Toggle navigation</span>\\n          <span class=\"icon-bar\"></span>\\n          <span class=\"icon-bar\"></span>\\n          <span class=\"icon-bar\"></span>\\n        </button>\\n      </div>\\n\\n      <div class=\"collapse navbar-collapse\" id=\"thenavbar\">\\n        \\n        <ul class=\"nav navbar-nav navbar-right\">\\n          \\n            <li>\\n              \\n\\n            </li>\\n          \\n        </ul>\\n      </div>\\n\\n      \\n      \\n    </div>\\n  </nav>\\n\\n\\n\\n\\n\\n\\n\\n\\n\\n\\n\\n<div id=\"login-main\" class=\"container\">\\n\\n<div class=\"service-login\">\\n  <a role=\"button\" class=\\'btn btn-jupyter btn-lg\\' href=\\'/hub/oauth_login?next=%2Fhub%2Fapi%2Foauth2%2Fauthorize%3Fclient_id%3Djupyterhub-user-james.maccarthy%252540gmail.com%26redirect_uri%3D%252Fuser%252Fjames.maccarthy%2540gmail.com%252Foauth_callback%26response_type%3Dcode%26state%3DeyJ1dWlkIjogIjUxNDU0YjdkNmRhYTQwZDg5NzE1MzEzMTVhZmQ4M2E4IiwgIm5leHRfdXJsIjogIi91c2VyL2phbWVzLm1hY2NhcnRoeUBnbWFpbC5jb20vbGFiL3Byb3h5LzQwMDAvaGVsbG8ifQ\\'>\\n    Sign in with Google\\n  </a>\\n</div>\\n\\n</div>\\n\\n\\n\\n\\n\\n\\n\\n<div class=\"modal fade\" id=\"error-dialog\" tabindex=\"-1\" role=\"dialog\" aria-labelledby=\"error-label\" aria-hidden=\"true\">\\n  <div class=\"modal-dialog\">\\n    <div class=\"modal-content\">\\n      <div class=\"modal-header\">\\n        <button type=\"button\" class=\"close\" data-dismiss=\"modal\"><span aria-hidden=\"true\">&times;</span><span class=\"sr-only\">Close</span></button>\\n        <h4 class=\"modal-title\" id=\"error-label\">Error</h4>\\n      </div>\\n      <div class=\"modal-body\">\\n        \\n  <div class=\"ajax-error\">\\n    The error\\n  </div>\\n\\n      </div>\\n      <div class=\"modal-footer\">\\n        <button type=\"button\" class=\"btn btn-default\" data-dismiss=\"modal\">Cancel</button>\\n        <button type=\"button\" class=\"btn btn-primary\" data-dismiss=\"modal\" data-dismiss=\"modal\">OK</button>\\n      </div>\\n    </div>\\n  </div>\\n</div>\\n\\n\\n\\n\\n\\n<script>\\nif (window.location.protocol === \"http:\") {\\n  // unhide http warning\\n  var warning = document.getElementById(\\'insecure-login-warning\\');\\n  warning.className = warning.className.replace(/\\\\bhidden\\\\b/, \\'\\');\\n}\\n</script>\\n\\n\\n\\n</body>\\n\\n</html>'"
      ]
     },
     "execution_count": 23,
     "metadata": {},
     "output_type": "execute_result"
    }
   ],
   "source": [
    "resp.text"
   ]
  },
  {
   "cell_type": "code",
   "execution_count": null,
   "metadata": {},
   "outputs": [],
   "source": []
  }
 ],
 "metadata": {
  "kernelspec": {
   "display_name": "Python 3",
   "language": "python",
   "name": "python3"
  },
  "language_info": {
   "codemirror_mode": {
    "name": "ipython",
    "version": 3
   },
   "file_extension": ".py",
   "mimetype": "text/x-python",
   "name": "python",
   "nbconvert_exporter": "python",
   "pygments_lexer": "ipython3",
   "version": "3.7.5"
  }
 },
 "nbformat": 4,
 "nbformat_minor": 4
}
